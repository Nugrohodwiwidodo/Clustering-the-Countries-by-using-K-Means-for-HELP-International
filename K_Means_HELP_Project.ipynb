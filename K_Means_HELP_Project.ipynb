{
  "nbformat": 4,
  "nbformat_minor": 0,
  "metadata": {
    "colab": {
      "name": "K-Means_HELP_Project.ipynb",
      "private_outputs": true,
      "provenance": [],
      "collapsed_sections": [],
      "toc_visible": true
    },
    "kernelspec": {
      "name": "python3",
      "display_name": "Python 3"
    },
    "language_info": {
      "name": "python"
    }
  },
  "cells": [
    {
      "cell_type": "markdown",
      "source": [
        "#**Clustering the Countries by using K-Means for HELP International**"
      ],
      "metadata": {
        "id": "hj8I3lzjaqIk"
      }
    },
    {
      "cell_type": "markdown",
      "source": [
        "#Objective\n",
        "Untuk mengkategorikan negara menggunakan faktor sosial ekonomi dan kesehatan yang menentukan pembangunan negara secara keseluruhan."
      ],
      "metadata": {
        "id": "OkzeMJT1bJMs"
      }
    },
    {
      "cell_type": "markdown",
      "source": [
        "#Tentang Organisasi\n",
        "HELP International adalah LSM kemanusiaan internasional yang berkomitmen untuk memerangi kemiskinan dan menyediakan fasilitas dan bantuan dasar bagi masyarakat di negara-negara terbelakang saat terjadi bencana dan bencana alam."
      ],
      "metadata": {
        "id": "cGeXxgGLbNPf"
      }
    },
    {
      "cell_type": "code",
      "source": [
        ""
      ],
      "metadata": {
        "id": "fbTR8k4sUofq"
      },
      "execution_count": null,
      "outputs": []
    },
    {
      "cell_type": "markdown",
      "source": [
        "#Permasalahan\n",
        "HELP International telah berhasil mengumpulkan sekitar $ 10 juta. Saat ini, CEO LSM perlu memutuskan bagaimana menggunakan uang ini secara strategis dan efektif. Jadi, CEO harus mengambil keputusan untuk memilih negara yang paling membutuhkan bantuan. Oleh karena itu, Tugasnyaadalah mengkategorikan negara menggunakan beberapa faktor sosial ekonomi dan kesehatan yang menentukan perkembangan negara secara keseluruhan. Kemudian perlu menyarankan negara mana saja  yang paling perlu menjadi fokus CEO."
      ],
      "metadata": {
        "id": "DfYd7_AKbSmr"
      }
    },
    {
      "cell_type": "markdown",
      "source": [
        "#Kolom fitur\n",
        "1. Negara : Nama negara\n",
        "2. Kematian_anak: Kematian anak di bawah usia 5 tahun per 1000 kelahiran\n",
        "3. Ekspor : Ekspor barang dan jasa perkapita\n",
        "4. Kesehatan: Total pengeluaran kesehatan perkapita \n",
        "5. Impor: Impor barang dan jasa perkapita\n",
        "6. Pendapatan: Penghasilan bersih perorang\n",
        "7. Inflasi: Pengukuran tingkat pertumbuhan tahunan dari Total GDP \n",
        "8. Harapan_hidup: Jumlah tahun rata-rata seorang anak yang baru lahir akan hidup jika pola kematian saat ini tetap sama\n",
        "9. Jumlah_fertiliti: Jumlah anak yang akan lahir dari setiap wanita jika tingkat kesuburan usia saat ini tetap sama\n",
        "10. GDPperkapita: GDP per kapita. Dihitung sebagai Total GDP dibagi dengan total populasi. "
      ],
      "metadata": {
        "id": "qW1vY7FXbYu0"
      }
    },
    {
      "cell_type": "code",
      "execution_count": null,
      "metadata": {
        "id": "SKscEcGDF_hs"
      },
      "outputs": [],
      "source": [
        "import numpy as np\n",
        "import pandas as pd\n",
        "import matplotlib.pyplot as plt\n",
        "import seaborn as sns\n",
        "from sklearn.preprocessing import StandardScaler\n",
        "from sklearn.cluster import KMeans"
      ]
    },
    {
      "cell_type": "code",
      "source": [
        "df = pd.read_csv(\"/content/Data_Negara_HELP (1).csv\")\n",
        "print(\"Shape dataset : \", df.shape)\n",
        "print('\\nInformasi dataset')\n",
        "df.info()\n",
        "print('\\nStatistik deskriptif')\n",
        "df.describe()"
      ],
      "metadata": {
        "id": "rd27gX7RGvi9"
      },
      "execution_count": null,
      "outputs": []
    },
    {
      "cell_type": "code",
      "source": [
        "print('Lima data teratas')\n",
        "df.head()"
      ],
      "metadata": {
        "id": "rgyJhKsNJpHq"
      },
      "execution_count": null,
      "outputs": []
    },
    {
      "cell_type": "markdown",
      "source": [
        "Dari 9 fitur, kita kelompokan menjadi 2 bagian yaitu \n",
        "1. bidang kesehatan : Kematian_anak, Kesehatan, Harapan_hidup dan Jumlah_fertiliti\n",
        "2. bidang ekonomi : Ekspor, Impor, Pendapatan, Inflasi, GDPperkapita"
      ],
      "metadata": {
        "id": "YR3_xO86dEDd"
      }
    },
    {
      "cell_type": "code",
      "source": [
        "#Missing value\n",
        "df.isnull().sum()"
      ],
      "metadata": {
        "id": "UQPbYlAqG5r-"
      },
      "execution_count": null,
      "outputs": []
    },
    {
      "cell_type": "code",
      "source": [
        "#Menghapus kolom Negara\n",
        "df_olah = df.copy()\n",
        "df_olah.drop(columns=[\"Negara\"], inplace=True)\n",
        "df_olah.head()"
      ],
      "metadata": {
        "id": "mPpMb1E_dvD7"
      },
      "execution_count": null,
      "outputs": []
    },
    {
      "cell_type": "markdown",
      "source": [
        "#Data Outlier"
      ],
      "metadata": {
        "id": "FrzCn2AtiqXa"
      }
    },
    {
      "cell_type": "code",
      "source": [
        "def remove_outlier(x):\n",
        "  q1 = x.quantile(0.25)\n",
        "  q3 = x.quantile(0.75)\n",
        "  IQR = q3 - q1\n",
        "  lower_bound = q1 - (IQR * 1.5)\n",
        "  upper_bound = q3 + (IQR * 1.5)\n",
        "  df_outlier = x[~((x < lower_bound) | (x > upper_bound))]\n",
        "  return df_outlier"
      ],
      "metadata": {
        "id": "XgFFb4xuipmC"
      },
      "execution_count": null,
      "outputs": []
    },
    {
      "cell_type": "code",
      "source": [
        "df_outlier = remove_outlier(df_olah)\n",
        "df_outlier.fillna(method='ffill', inplace=True)\n",
        "df_outlier.head()"
      ],
      "metadata": {
        "id": "L0pkt8qcjTrT"
      },
      "execution_count": null,
      "outputs": []
    },
    {
      "cell_type": "code",
      "source": [
        "df_outlier.isnull().sum()"
      ],
      "metadata": {
        "id": "tl4hBQlfi4lN"
      },
      "execution_count": null,
      "outputs": []
    },
    {
      "cell_type": "markdown",
      "source": [
        "#Korelasi antar fitur"
      ],
      "metadata": {
        "id": "7W0KpjqVUHAO"
      }
    },
    {
      "cell_type": "code",
      "source": [
        "plt.figure(figsize=(12,12))\n",
        "sns.heatmap(df_outlier.corr(), annot=True)"
      ],
      "metadata": {
        "id": "H3KB0ZEncc-N"
      },
      "execution_count": null,
      "outputs": []
    },
    {
      "cell_type": "markdown",
      "source": [
        "Dua variabel dikatakan berkolerasi apabila perubahan pada variabel yang satu akan diikuti perubahan pada variabel yang lain secara teratur dengan arah yang sama (korelasi positif) atau berlawanan (korelasi negatif). Nilai korelasi berada pada rentang -1 sampai 0. Hubungan semakin kuat dengan arah yang sama jika korelasi bernilai mendekati angka 1, dan hubungan semakin kuat dengan arah yang berbeda jika korelasi bernilai mendekati angka -1. Jika korelasi berada disekitar angka 0, maka hubungan dinilai tidak begitu kuat (Tidak berpengaruh).\n",
        "\n",
        "Kita dapat memilih pasangan fitur sesuai bidangnya masing-masing yang memiliki pengaruh kuat satu sama lain. (Korelasi bernilai lebih dari 0.6 atau kurang dari -0.6)\n",
        "\n",
        "bidang kesehatan :    \n",
        "1. Kematian_anak dan Jumlah_fertiliti (korelasi : 0.82)\n",
        "2. Jumlah_fertiliti dan Harapan_hidup (korelasi : -0,8)\n",
        "3. Harapan_hidup dan Kematian_anak (korelasi : -0,81)\n",
        "\n",
        "bidang ekonomi :     \n",
        "1. GDPperkapita dan Pendapatan (korelasi : 0.61)\n",
        "\n",
        "Sedangkan untuk fitur yang berbeda bidang :    \n",
        "1. Harapan_hidup dan Pendapatan (korelasi : 0.67)"
      ],
      "metadata": {
        "id": "xpoUqTHZeJwM"
      }
    },
    {
      "cell_type": "markdown",
      "source": [
        "#Kematian_anak dan Jumlah_fertiliti"
      ],
      "metadata": {
        "id": "t0gAJRfUpViB"
      }
    },
    {
      "cell_type": "code",
      "source": [
        "df_KJ = pd.DataFrame(data= df_outlier, columns=['Kematian_anak','Jumlah_fertiliti'])\n",
        "df_KJ.head()"
      ],
      "metadata": {
        "cellView": "code",
        "id": "a-Y8sZNdpgwU"
      },
      "execution_count": null,
      "outputs": []
    },
    {
      "cell_type": "code",
      "source": [
        "#Scalling data\n",
        "sc = StandardScaler()\n",
        "df_KJ = sc.fit_transform(df_KJ)"
      ],
      "metadata": {
        "id": "sQIVJKgIqEou"
      },
      "execution_count": null,
      "outputs": []
    },
    {
      "cell_type": "code",
      "source": [
        "#Elbow Method Kematian_anak dan Jumlah_fertiliti\n",
        "wcss = [] #Within-Cluster Sum of Square \n",
        "for i in range(1,11):\n",
        "  kmeans = KMeans(n_clusters=i, init='k-means++', random_state=42)\n",
        "  kmeans.fit(df_KJ)\n",
        "  wcss.append(kmeans.inertia_)\n",
        "\n",
        "plt.figure(figsize=(10,6))\n",
        "plt.plot(range(1,11), wcss)\n",
        "plt.title('The Elbow Method')\n",
        "plt.xlabel('Number of cluster')\n",
        "plt.ylabel('WCSS')\n",
        "plt.show()"
      ],
      "metadata": {
        "id": "0aCW8Gv38DRS"
      },
      "execution_count": null,
      "outputs": []
    },
    {
      "cell_type": "markdown",
      "source": [
        "pada grafik diatas, kurva memiliki belokan yang tajam di titik 2, sehingga data ini akan dibuat dalam 2 cluster"
      ],
      "metadata": {
        "id": "wOSF-9VLBguh"
      }
    },
    {
      "cell_type": "code",
      "source": [
        "#Silhoutte score untuk Kematian_anak dan Jumlah_fertiliti\n",
        "from sklearn.metrics import silhouette_score"
      ],
      "metadata": {
        "id": "WtmFbpCYA3Oz"
      },
      "execution_count": null,
      "outputs": []
    },
    {
      "cell_type": "code",
      "source": [
        "for i in range(2,11):\n",
        "  labels = KMeans(n_clusters=i, init='k-means++', random_state=42).fit(df_KJ).labels_\n",
        "  print(\"Silhoutte Score for \" + str(i) + \" cluster is \" + str(silhouette_score(df_KJ, labels)))"
      ],
      "metadata": {
        "id": "y5LT_7w4KU74"
      },
      "execution_count": null,
      "outputs": []
    },
    {
      "cell_type": "markdown",
      "source": [
        "Silhoutte score digunakan untuk melihat nilai k (banyaknya cluster) yang terbaik dilihat dari nilai yang tertinggi. Diperoleh Silhoutte score tertingginya yaiut 0.6607 untuk 2 cluster."
      ],
      "metadata": {
        "id": "mcSGgyIV2T9C"
      }
    },
    {
      "cell_type": "code",
      "source": [
        "#KMeans Cluster Kematian_anak dan Jumlah_fertiliti\n",
        "#2 cluster\n",
        "kmeans_KJ = KMeans(n_clusters=2, init='k-means++', random_state=42).fit(df_KJ)\n",
        "labels_KJ = kmeans_KJ.labels_\n",
        "\n",
        "df_KJ_cluster = pd.DataFrame(data= df_outlier, columns=['Kematian_anak','Jumlah_fertiliti'])\n",
        "df_KJ_cluster['cluster'] = labels_KJ\n",
        "df_KJ_cluster.head()"
      ],
      "metadata": {
        "id": "kn8EbrB13B0W"
      },
      "execution_count": null,
      "outputs": []
    },
    {
      "cell_type": "code",
      "source": [
        "df_KJ_scal = pd.DataFrame(data= df_KJ, columns=['Kematian_anak','Jumlah_fertiliti'])\n",
        "df_KJ_scal['cluster'] = labels_KJ\n",
        "df_KJ_scal.head()"
      ],
      "metadata": {
        "id": "acNCp6Cg-00S"
      },
      "execution_count": null,
      "outputs": []
    },
    {
      "cell_type": "code",
      "source": [
        "#Scatter Plot Kematian_anak dan Jumlah_fertiliti\n",
        "plt.figure(figsize=(12,8))\n",
        "print('n_cluster = 2')\n",
        "plt.scatter(df_KJ_scal['Kematian_anak'][df_KJ_scal['cluster']==0], df_KJ_scal['Jumlah_fertiliti'][df_KJ_scal['cluster']==0], c='blue', s=100, edgecolors='black' )\n",
        "plt.scatter(df_KJ_scal['Kematian_anak'][df_KJ_scal['cluster']==1], df_KJ_scal['Jumlah_fertiliti'][df_KJ_scal['cluster']==1], c='green', s=100, edgecolors='black' )\n",
        "\n",
        "cluster = kmeans_KJ.cluster_centers_\n",
        "plt.scatter(cluster[:,0], cluster[:,1], c='black', s=500)\n",
        "plt.xlabel('Kematian_anak')\n",
        "plt.ylabel('Jumlah_fertiliti')\n",
        "plt.show()"
      ],
      "metadata": {
        "id": "0R9mrlWN47w_"
      },
      "execution_count": null,
      "outputs": []
    },
    {
      "cell_type": "markdown",
      "source": [
        "Interpretasi :\n",
        "Bisa dilihat bahwa terdapat 2 cluster. Cluster dengan label 1 berwarna hijau menunjukkan kecenderungan Kematian_anak dan jumlah_fertilitinya rendah, sedangkan cluster dengan label 0 berwarna biru menunjukkan kecenderungan Kematian_anak dan Jumlah_fertilitinya tinggi."
      ],
      "metadata": {
        "id": "_v4Scd1680u3"
      }
    },
    {
      "cell_type": "code",
      "source": [
        "df_KJ_cluster.groupby(['cluster']).agg({'Kematian_anak':'mean', 'Jumlah_fertiliti':'mean'})"
      ],
      "metadata": {
        "id": "hGzo_tdL8SuA"
      },
      "execution_count": null,
      "outputs": []
    },
    {
      "cell_type": "markdown",
      "source": [
        "Bisa disimpulkan:\n",
        "\n",
        "cluster 0 : memiliki rata-rata tingkat kematian anak yang tinggi, yaitu 82 kematian anak per 1000 kelahiran dengan rata-rata 4 anak yang lahir dari setiap wanita\n",
        "\n",
        "cluster 1 : memiliki rata-rata tingkat kematian anak yang rendah, yaitu 17 kematian anak per 1000 kelahiran dengan rata-rata 2 anak yang lahir dari setiap wanita"
      ],
      "metadata": {
        "id": "3CV2FwjM_ysp"
      }
    },
    {
      "cell_type": "code",
      "source": [
        "cluster_KJ = pd.concat([df['Negara'],df_KJ_cluster], axis=1, join='outer')\n",
        "cluster_KJ.head()"
      ],
      "metadata": {
        "id": "dcddeeHLBOJB"
      },
      "execution_count": null,
      "outputs": []
    },
    {
      "cell_type": "code",
      "source": [
        "print('daftar negara cluster 0 :')\n",
        "print(cluster_KJ[cluster_KJ.cluster == 0].Negara.values)\n",
        "print('Total : ', cluster_KJ[cluster_KJ.cluster == 0].Negara.count())"
      ],
      "metadata": {
        "id": "Y_ooTNPY93bk"
      },
      "execution_count": null,
      "outputs": []
    },
    {
      "cell_type": "code",
      "source": [
        "print('daftar negara cluster 1 :')\n",
        "print(cluster_KJ[cluster_KJ.cluster == 1].Negara.values)\n",
        "print('Total : ', cluster_KJ[cluster_KJ.cluster == 1].Negara.count())"
      ],
      "metadata": {
        "id": "mtnWq7aFBnfk"
      },
      "execution_count": null,
      "outputs": []
    },
    {
      "cell_type": "markdown",
      "source": [
        "Dari hasil analisis diatas, negara yang ada di cluster 0 akan dipertimbangkan untuk menjadi penerima bantuan dari organisasi HELP dikarenakan tingginya tingkat kematian_anak dan juga jumlah_fertiliti"
      ],
      "metadata": {
        "id": "ZCd8ftPGB5Rp"
      }
    },
    {
      "cell_type": "markdown",
      "source": [
        "#Jumlah_fertiliti dan Harapan_hidup"
      ],
      "metadata": {
        "id": "tN33k3i3Co8S"
      }
    },
    {
      "cell_type": "code",
      "source": [
        "df_JH = pd.DataFrame(data= df_outlier, columns=['Jumlah_fertiliti','Harapan_hidup'])\n",
        "df_JH.head()"
      ],
      "metadata": {
        "cellView": "code",
        "id": "SkIRaCPOE5L1"
      },
      "execution_count": null,
      "outputs": []
    },
    {
      "cell_type": "code",
      "source": [
        "#Scalling data\n",
        "sc = StandardScaler()\n",
        "df_JH = sc.fit_transform(df_JH)"
      ],
      "metadata": {
        "id": "iicYbKuRExFE"
      },
      "execution_count": null,
      "outputs": []
    },
    {
      "cell_type": "code",
      "source": [
        "#Elbow Method Jumlah_fertiliti dan Harapan_hidup\n",
        "wcss = [] #Within-Cluster Sum of Square \n",
        "for i in range(1,11):\n",
        "  kmeans = KMeans(n_clusters=i, init='k-means++', random_state=42)\n",
        "  kmeans.fit(df_JH)\n",
        "  wcss.append(kmeans.inertia_)\n",
        "\n",
        "plt.figure(figsize=(10,6))\n",
        "plt.plot(range(1,11), wcss)\n",
        "plt.title('The Elbow Method')\n",
        "plt.xlabel('Number of cluster')\n",
        "plt.ylabel('WCSS')\n",
        "plt.show()"
      ],
      "metadata": {
        "id": "DktENQiBExFR"
      },
      "execution_count": null,
      "outputs": []
    },
    {
      "cell_type": "markdown",
      "source": [
        "pada grafik diatas, kurva memiliki belokan yang tajam di titik 2, sehingga data ini akan dibuat dalam 2 cluster"
      ],
      "metadata": {
        "id": "8Qo447-qExFS"
      }
    },
    {
      "cell_type": "code",
      "source": [
        "#Silhoutte score untuk Jumlah_fertiliti dan Harapan_hidup"
      ],
      "metadata": {
        "id": "a97bInzbExFT"
      },
      "execution_count": null,
      "outputs": []
    },
    {
      "cell_type": "code",
      "source": [
        "for i in range(2,11):\n",
        "  labels = KMeans(n_clusters=i, init='k-means++', random_state=42).fit(df_JH).labels_\n",
        "  print(\"Silhoutte Score for \" + str(i) + \" cluster is \" + str(silhouette_score(df_JH, labels)))"
      ],
      "metadata": {
        "id": "Y-D_Xs_gExFT"
      },
      "execution_count": null,
      "outputs": []
    },
    {
      "cell_type": "markdown",
      "source": [
        "[link text](https://)Silhoutte score digunakan untuk melihat nilai k (banyaknya cluster) yang terbaik dilihat dari nilai yang tertinggi. Diperoleh Silhoutte score tertingginya yaiut 0.6196 untuk 2 cluster."
      ],
      "metadata": {
        "id": "LXodJSBTExFT"
      }
    },
    {
      "cell_type": "code",
      "source": [
        "#KMeans Cluster Jumlah_fertiliti dan Harapan_hidup\n",
        "#2 cluster\n",
        "kmeans_JH = KMeans(n_clusters=2, init='k-means++', random_state=42).fit(df_JH)\n",
        "labels_JH = kmeans_JH.labels_\n",
        "\n",
        "df_JH_cluster = pd.DataFrame(data= df_outlier, columns=['Jumlah_fertiliti', 'Harapan_hidup'])\n",
        "df_JH_cluster['cluster'] = labels_JH\n",
        "df_JH_cluster.head()"
      ],
      "metadata": {
        "id": "gF_pM4YjExFU"
      },
      "execution_count": null,
      "outputs": []
    },
    {
      "cell_type": "code",
      "source": [
        "df_JH_scal = pd.DataFrame(data= df_JH, columns=['Jumlah_fertiliti','Harapan_hidup'])\n",
        "df_JH_scal['cluster'] = labels_JH\n",
        "df_JH_scal.head()"
      ],
      "metadata": {
        "id": "sWe0SjDjExFU"
      },
      "execution_count": null,
      "outputs": []
    },
    {
      "cell_type": "code",
      "source": [
        "#Scatter Plot Jumlah_fertiliti dan Harapan_hidup\n",
        "plt.figure(figsize=(12,8))\n",
        "print('n_cluster = 2')\n",
        "plt.scatter(df_JH_scal['Jumlah_fertiliti'][df_JH_scal['cluster']==0], df_JH_scal['Harapan_hidup'][df_JH_scal['cluster']==0], c='blue', s=100, edgecolors='black' )\n",
        "plt.scatter(df_JH_scal['Jumlah_fertiliti'][df_JH_scal['cluster']==1], df_JH_scal['Harapan_hidup'][df_JH_scal['cluster']==1], c='green', s=100, edgecolors='black' )\n",
        "\n",
        "cluster = kmeans_JH.cluster_centers_\n",
        "plt.scatter(cluster[:,0], cluster[:,1], c='black', s=500)\n",
        "plt.xlabel('Jumlah_fertiliti')\n",
        "plt.ylabel('Harapan_hidup')\n",
        "plt.show()"
      ],
      "metadata": {
        "id": "id7UcOTeExFU"
      },
      "execution_count": null,
      "outputs": []
    },
    {
      "cell_type": "markdown",
      "source": [
        "Interpretasi :\n",
        "Bisa dilihat bahwa terdapat 2 cluster. Cluster dengan label 1 berwarna hijau menunjukkan kecenderungan Jumlah_fertilitinya tinggi namun Harapan_hidupnya rendah, sedangkan cluster dengan label 0 berwarna biru menunjukkan kecenderungan Jumlah_fertilitinya rendah namun Harapan_hidupnya tinggi"
      ],
      "metadata": {
        "id": "H7oMlmcIExFV"
      }
    },
    {
      "cell_type": "code",
      "source": [
        "df_JH_cluster.groupby(['cluster']).agg({'Jumlah_fertiliti':'mean','Harapan_hidup':'mean', })"
      ],
      "metadata": {
        "id": "DMRwEPIPExFV"
      },
      "execution_count": null,
      "outputs": []
    },
    {
      "cell_type": "markdown",
      "source": [
        "Bisa disimpulkan:\n",
        "\n",
        "cluster 0 : memiliki rata-rata Harapan hidup yang tinggi, yaitu 75 tahun. Kemudian jumlah fertilitinya 2, artinya rata-rata 2 anak lahir dari setiap wanita.\n",
        "\n",
        "cluster 1 : memiliki rata-rata Harapan hidup lebih rendah dari cluster 0, yaitu 61 tahun. Kemudian jumlah fertilitinya 4, artinya rata-rata 4 anak lahir dari setiap wanita."
      ],
      "metadata": {
        "id": "Q81FWBgmExFV"
      }
    },
    {
      "cell_type": "code",
      "source": [
        "cluster_JH = pd.concat([df['Negara'],df_JH_cluster], axis=1, join='outer')\n",
        "cluster_JH.head()"
      ],
      "metadata": {
        "id": "4kwA7zZ3ExFW"
      },
      "execution_count": null,
      "outputs": []
    },
    {
      "cell_type": "code",
      "source": [
        "print('daftar negara cluster 0 :')\n",
        "print(cluster_JH[cluster_JH.cluster == 0].Negara.values)\n",
        "print('Total : ', cluster_JH[cluster_JH.cluster == 0].Negara.count())"
      ],
      "metadata": {
        "id": "fqUYOxhxExFW"
      },
      "execution_count": null,
      "outputs": []
    },
    {
      "cell_type": "code",
      "source": [
        "print('daftar negara cluster 1 :')\n",
        "print(cluster_JH[cluster_JH.cluster == 1].Negara.values)\n",
        "print('Total : ', cluster_JH[cluster_JH.cluster == 1].Negara.count())"
      ],
      "metadata": {
        "id": "_n5IX0oIExFX"
      },
      "execution_count": null,
      "outputs": []
    },
    {
      "cell_type": "markdown",
      "source": [
        "Dari hasil analisis diatas, negara yang ada di cluster 1 akan dipertimbangkan untuk menjadi penerima bantuan dari organisasi HELP dikarenakan tingginya jumlah_fertiliti namun harapan hidupnya rendah."
      ],
      "metadata": {
        "id": "I2HvmEUXExFX"
      }
    },
    {
      "cell_type": "markdown",
      "source": [
        "#Harapan_hidup dan Kematian_anak"
      ],
      "metadata": {
        "id": "Wa13qPmwT_TI"
      }
    },
    {
      "cell_type": "code",
      "source": [
        "df_HK = pd.DataFrame(data= df_outlier, columns=['Harapan_hidup', 'Kematian_anak'])\n",
        "df_HK.head()"
      ],
      "metadata": {
        "cellView": "code",
        "id": "Vqgl-uAjT_TL"
      },
      "execution_count": null,
      "outputs": []
    },
    {
      "cell_type": "code",
      "source": [
        "#Scalling data\n",
        "sc = StandardScaler()\n",
        "df_HK = sc.fit_transform(df_HK)"
      ],
      "metadata": {
        "id": "GENW1V6iT_TM"
      },
      "execution_count": null,
      "outputs": []
    },
    {
      "cell_type": "code",
      "source": [
        "#Elbow Method Harapan_hidup dan Kematian_anak\n",
        "wcss = [] #Within-Cluster Sum of Square \n",
        "for i in range(1,11):\n",
        "  kmeans = KMeans(n_clusters=i, init='k-means++', random_state=42)\n",
        "  kmeans.fit(df_HK)\n",
        "  wcss.append(kmeans.inertia_)\n",
        "\n",
        "plt.figure(figsize=(10,6))\n",
        "plt.plot(range(1,11), wcss)\n",
        "plt.title('The Elbow Method')\n",
        "plt.xlabel('Number of cluster')\n",
        "plt.ylabel('WCSS')\n",
        "plt.show()"
      ],
      "metadata": {
        "id": "LDOYrmXbT_TO"
      },
      "execution_count": null,
      "outputs": []
    },
    {
      "cell_type": "markdown",
      "source": [
        "pada grafik diatas, kurva memiliki belokan yang tajam di titik 2, sehingga data ini akan dibuat dalam 2 cluster"
      ],
      "metadata": {
        "id": "cUUu2iNGT_TP"
      }
    },
    {
      "cell_type": "code",
      "source": [
        "#Silhoutte score untuk Harapan_hidup dan Kematian_anak"
      ],
      "metadata": {
        "id": "MtOKyAvIT_TQ"
      },
      "execution_count": null,
      "outputs": []
    },
    {
      "cell_type": "code",
      "source": [
        "for i in range(2,11):\n",
        "  labels = KMeans(n_clusters=i, init='k-means++', random_state=42).fit(df_HK).labels_\n",
        "  print(\"Silhoutte Score for \" + str(i) + \" cluster is \" + str(silhouette_score(df_HK, labels)))"
      ],
      "metadata": {
        "id": "-GDTeo8mT_TR"
      },
      "execution_count": null,
      "outputs": []
    },
    {
      "cell_type": "markdown",
      "source": [
        "Silhoutte score digunakan untuk melihat nilai k (banyaknya cluster) yang terbaik dilihat dari nilai yang tertinggi. Diperoleh Silhoutte score tertingginya yaiut 0.6160 untuk 2 cluster."
      ],
      "metadata": {
        "id": "6X5DyOK-T_TS"
      }
    },
    {
      "cell_type": "code",
      "source": [
        "#KMeans Cluster Harapan_hidup dan Kematian_anak\n",
        "#2 cluster\n",
        "kmeans_HK = KMeans(n_clusters=2, init='k-means++', random_state=42).fit(df_HK)\n",
        "labels_HK = kmeans_HK.labels_\n",
        "\n",
        "df_HK_cluster = pd.DataFrame(data= df_outlier, columns=['Harapan_hidup', 'Kematian_anak'])\n",
        "df_HK_cluster['cluster'] = labels_HK\n",
        "df_HK_cluster.head()"
      ],
      "metadata": {
        "id": "0yCK4yvvT_TT"
      },
      "execution_count": null,
      "outputs": []
    },
    {
      "cell_type": "code",
      "source": [
        "df_HK_scal = pd.DataFrame(data= df_HK, columns=['Harapan_hidup','Kematian_anak'])\n",
        "df_HK_scal['cluster'] = labels_HK\n",
        "df_HK_scal.head()"
      ],
      "metadata": {
        "id": "dpYijBryT_TV"
      },
      "execution_count": null,
      "outputs": []
    },
    {
      "cell_type": "code",
      "source": [
        "#Scatter Plot Harapan_hidup dan Kematian_anak\n",
        "plt.figure(figsize=(12,8))\n",
        "print('n_cluster = 2')\n",
        "plt.scatter(df_HK_scal['Harapan_hidup'][df_HK_scal['cluster']==0], df_HK_scal['Kematian_anak'][df_HK_scal['cluster']==0], c='blue', s=100, edgecolors='black' )\n",
        "plt.scatter(df_HK_scal['Harapan_hidup'][df_HK_scal['cluster']==1], df_HK_scal['Kematian_anak'][df_HK_scal['cluster']==1], c='green', s=100, edgecolors='black' )\n",
        "\n",
        "cluster = kmeans_HK.cluster_centers_\n",
        "plt.scatter(cluster[:,0], cluster[:,1], c='black', s=500)\n",
        "plt.xlabel('Harapan_hidup')\n",
        "plt.ylabel('Kematian_anak')\n",
        "plt.show()"
      ],
      "metadata": {
        "id": "PPdR3iw8T_TW"
      },
      "execution_count": null,
      "outputs": []
    },
    {
      "cell_type": "markdown",
      "source": [
        "Interpretasi :\n",
        "Bisa dilihat bahwa terdapat 2 cluster. Cluster dengan label 1 berwarna hijau menunjukkan kecenderungan Kematian_anak tinggi namun Harapan_hidupnya rendah, sedangkan cluster dengan label 0 berwarna biru menunjukkan kecenderungan Kematian_anak rendah namun Harapan_hidupnya tinggi"
      ],
      "metadata": {
        "id": "u8weqi-MT_TX"
      }
    },
    {
      "cell_type": "code",
      "source": [
        "df_HK_cluster.groupby(['cluster']).agg({'Harapan_hidup':'mean','Kematian_anak':'mean' })"
      ],
      "metadata": {
        "id": "oNF4NFBbT_TY"
      },
      "execution_count": null,
      "outputs": []
    },
    {
      "cell_type": "markdown",
      "source": [
        "Bisa disimpulkan:\n",
        "\n",
        "cluster 0 : memiliki rata-rata Harapan hidup yang tinggi, yaitu 75 tahun dengan rata-rata terdapat 14 Kematian anak per 10000 kelahiran\n",
        "\n",
        "cluster 1 : memiliki rata-rata Harapan hidup lebih rendah dari cluster 0, yaitu 61 tahun dengan rata-rata terdapat 76 Kematian anak per 10000 kelahiran"
      ],
      "metadata": {
        "id": "xmzN0kmZT_TZ"
      }
    },
    {
      "cell_type": "code",
      "source": [
        "cluster_HK = pd.concat([df['Negara'],df_HK_cluster], axis=1, join='outer')\n",
        "cluster_HK.head()"
      ],
      "metadata": {
        "id": "_lsaVnriT_Ta"
      },
      "execution_count": null,
      "outputs": []
    },
    {
      "cell_type": "code",
      "source": [
        "print('daftar negara cluster 0 :')\n",
        "print(cluster_HK[cluster_HK.cluster == 0].Negara.values)\n",
        "print('Total : ', cluster_HK[cluster_HK.cluster == 0].Negara.count())"
      ],
      "metadata": {
        "id": "qGf2RtmWT_Ta"
      },
      "execution_count": null,
      "outputs": []
    },
    {
      "cell_type": "code",
      "source": [
        "print('daftar negara cluster 1 :')\n",
        "print(cluster_HK[cluster_HK.cluster == 1].Negara.values)\n",
        "print('Total : ', cluster_HK[cluster_HK.cluster == 1].Negara.count())"
      ],
      "metadata": {
        "id": "-hXC7qPrT_Tb"
      },
      "execution_count": null,
      "outputs": []
    },
    {
      "cell_type": "markdown",
      "source": [
        "Dari hasil analisis diatas, negara yang ada di cluster 1 akan dipertimbangkan untuk menjadi penerima bantuan dari organisasi HELP dikarenakan tingginya Kematian_anak namun harapan hidupnya rendah."
      ],
      "metadata": {
        "id": "r0zzc5giT_Tc"
      }
    },
    {
      "cell_type": "markdown",
      "source": [
        "#GDPperkapita dan Pendapatan"
      ],
      "metadata": {
        "id": "XedkNR6iZSRu"
      }
    },
    {
      "cell_type": "code",
      "source": [
        "df_GP = pd.DataFrame(data= df_outlier, columns=['GDPperkapita', 'Pendapatan'])\n",
        "df_GP.head()"
      ],
      "metadata": {
        "cellView": "code",
        "id": "FmfzmVtHZSRw"
      },
      "execution_count": null,
      "outputs": []
    },
    {
      "cell_type": "code",
      "source": [
        "#Scalling data\n",
        "sc = StandardScaler()\n",
        "df_GP = sc.fit_transform(df_GP)"
      ],
      "metadata": {
        "id": "zLB9CeKuZSRx"
      },
      "execution_count": null,
      "outputs": []
    },
    {
      "cell_type": "code",
      "source": [
        "#Elbow Method GDPperkapita dan Pendapatan\n",
        "wcss = [] #Within-Cluster Sum of Square \n",
        "for i in range(1,11):\n",
        "  kmeans = KMeans(n_clusters=i, init='k-means++', random_state=42)\n",
        "  kmeans.fit(df_GP)\n",
        "  wcss.append(kmeans.inertia_)\n",
        "\n",
        "plt.figure(figsize=(10,6))\n",
        "plt.plot(range(1,11), wcss)\n",
        "plt.title('The Elbow Method')\n",
        "plt.xlabel('Number of cluster')\n",
        "plt.ylabel('WCSS')\n",
        "plt.show()"
      ],
      "metadata": {
        "id": "KoM2Iw3AZSRy"
      },
      "execution_count": null,
      "outputs": []
    },
    {
      "cell_type": "markdown",
      "source": [
        "pada grafik diatas, kurva memiliki belokan yang tajam di titik 2 dan titik 4, sehingga kita akan sesuaikan dengan Sillhoutte score untuk menentukan banyaknya cluster yang akan dibuat."
      ],
      "metadata": {
        "id": "6kjios8MZSRz"
      }
    },
    {
      "cell_type": "code",
      "source": [
        "#Silhoutte score untuk GDPperkapita dan Pendapatan"
      ],
      "metadata": {
        "id": "sAAxNM31ZSR0"
      },
      "execution_count": null,
      "outputs": []
    },
    {
      "cell_type": "code",
      "source": [
        "for i in range(2,11):\n",
        "  labels = KMeans(n_clusters=i, init='k-means++', random_state=42).fit(df_GP).labels_\n",
        "  print(\"Silhoutte Score for \" + str(i) + \" cluster is \" + str(silhouette_score(df_GP, labels)))"
      ],
      "metadata": {
        "id": "kvnlvqKlZSR1"
      },
      "execution_count": null,
      "outputs": []
    },
    {
      "cell_type": "markdown",
      "source": [
        "Silhoutte score digunakan untuk melihat nilai k (banyaknya cluster) yang terbaik dilihat dari nilai yang tertinggi. Diperoleh Silhoutte score tertingginya yaiut 0.6298 untuk 4 cluster."
      ],
      "metadata": {
        "id": "Abp6UcWHZSR2"
      }
    },
    {
      "cell_type": "code",
      "source": [
        "#KMeans Cluster GDPperkapita dan Pendapatan\n",
        "#4 cluster\n",
        "kmeans_GP = KMeans(n_clusters=4, init='k-means++', random_state=42).fit(df_GP)\n",
        "labels_GP = kmeans_GP.labels_\n",
        "\n",
        "df_GP_cluster = pd.DataFrame(data= df_outlier, columns=['GDPperkapita', 'Pendapatan'])\n",
        "df_GP_cluster['cluster'] = labels_GP\n",
        "df_GP_cluster.head()"
      ],
      "metadata": {
        "id": "w4L0HogCZSR2"
      },
      "execution_count": null,
      "outputs": []
    },
    {
      "cell_type": "code",
      "source": [
        "df_GP_scal = pd.DataFrame(data= df_GP, columns=['GDPperkapita','Pendapatan'])\n",
        "df_GP_scal['cluster'] = labels_GP\n",
        "df_GP_scal.head()"
      ],
      "metadata": {
        "id": "6KuQFHOXZSR3"
      },
      "execution_count": null,
      "outputs": []
    },
    {
      "cell_type": "code",
      "source": [
        "#Scatter Plot GDPperkapita dan Pendapatan\n",
        "plt.figure(figsize=(12,8))\n",
        "print('n_cluster = 4')\n",
        "plt.scatter(df_GP_scal['GDPperkapita'][df_GP_scal['cluster']==0], df_GP_scal['Pendapatan'][df_GP_scal['cluster']==0], c='blue', s=100, edgecolors='black' )\n",
        "plt.scatter(df_GP_scal['GDPperkapita'][df_GP_scal['cluster']==1], df_GP_scal['Pendapatan'][df_GP_scal['cluster']==1], c='green', s=100, edgecolors='black' )\n",
        "plt.scatter(df_GP_scal['GDPperkapita'][df_GP_scal['cluster']==2], df_GP_scal['Pendapatan'][df_GP_scal['cluster']==2], c='red', s=100, edgecolors='black' )\n",
        "plt.scatter(df_GP_scal['GDPperkapita'][df_GP_scal['cluster']==3], df_GP_scal['Pendapatan'][df_GP_scal['cluster']==3], c='yellow', s=100, edgecolors='black' )\n",
        "\n",
        "cluster = kmeans_GP.cluster_centers_\n",
        "plt.scatter(cluster[:,0], cluster[:,1], c='black', s=500)\n",
        "plt.xlabel('GDPperkapita')\n",
        "plt.ylabel('Pendapatan')\n",
        "plt.show()"
      ],
      "metadata": {
        "id": "-RngbE3LZSR4"
      },
      "execution_count": null,
      "outputs": []
    },
    {
      "cell_type": "markdown",
      "source": [
        "Interpretasi :\n",
        "Bisa dilihat bahwa terdapat 4 cluster\n",
        "\n",
        "cluster 0 (biru) :  Merupakan negara-negara yang memiliki pendapatan dan GDPperkapita menengah (tidak tinggi dan tidak juga rendah.\n",
        "\n",
        "cluster 1 (hijau) :  Merupakan negara-negara yang memiliki pendapatan dan GDPperkapita tinggi.\n",
        "\n",
        "cluster 2 (merah) :  Merupakan negara-negara yang memiliki pendapatan dan GDPperkapita rendah.\n",
        "\n",
        "cluster 3 (kuning) :  Merupakan negara-negara yang memiliki pendapatan tinggi namun GDPperkapitanya rendah. Bisa dilihat bahwa pendapatan cluster ini bahkan rata-ratanya melebihi pendapatan cluster 1."
      ],
      "metadata": {
        "id": "nJJAQ3cEZSR6"
      }
    },
    {
      "cell_type": "code",
      "source": [
        "df_GP_cluster.groupby(['cluster']).agg({'GDPperkapita':'mean','Pendapatan':'mean' })"
      ],
      "metadata": {
        "id": "e2lbNpKPZSR6"
      },
      "execution_count": null,
      "outputs": []
    },
    {
      "cell_type": "markdown",
      "source": [
        "Bisa disimpulkan:\n",
        "\n",
        "cluster 0 : memiliki rata-rata GDPperkapita dan pendapatan yang tidak terlalu tinggi dan juga tidak terlalu rendah dibanding dengan negara lain.\n",
        "\n",
        "cluster 1 : memiliki rata-rata GDPperkapita sangat tinggi yaitu 23835.29 dan juga rata-rata pendapatan tinggi yaitu $33141.17 per orang.\n",
        "\n",
        "cluster 2 : memiliki rata-rata GDPperkapita sangat rendah, yaitu hanya 2170.34 dan juga rata-rata pendapatan yang sangat rendah yaitu hanya $4703.04 per orang.\n",
        "\n",
        "cluster 3 : memiliki rata-rata GDPperkapita yang bisa dibilang rendah, tidak jauh dari cluster 2, yaitu hanya 4377.75 namun rata-rata pendapatan per orangnya sangatlah tinggi, bahkan lebih tinggi dari cluster 1, yaitu $40812.5."
      ],
      "metadata": {
        "id": "ePq-_u3WZSR7"
      }
    },
    {
      "cell_type": "code",
      "source": [
        "cluster_GP = pd.concat([df['Negara'],df_GP_cluster], axis=1, join='outer')\n",
        "cluster_GP.head()"
      ],
      "metadata": {
        "id": "BkT3VZAUZSR8"
      },
      "execution_count": null,
      "outputs": []
    },
    {
      "cell_type": "code",
      "source": [
        "print('daftar negara cluster 0 :')\n",
        "print(cluster_GP[cluster_GP.cluster == 0].Negara.values)\n",
        "print('Total : ', cluster_GP[cluster_GP.cluster == 0].Negara.count())"
      ],
      "metadata": {
        "id": "KnutuPalZSR9"
      },
      "execution_count": null,
      "outputs": []
    },
    {
      "cell_type": "code",
      "source": [
        "print('daftar negara cluster 1 :')\n",
        "print(cluster_GP[cluster_GP.cluster == 1].Negara.values)\n",
        "print('Total : ', cluster_GP[cluster_GP.cluster == 1].Negara.count())"
      ],
      "metadata": {
        "id": "PauIOFEBmSQc"
      },
      "execution_count": null,
      "outputs": []
    },
    {
      "cell_type": "code",
      "source": [
        "print('daftar negara cluster 2 :')\n",
        "print(cluster_GP[cluster_GP.cluster == 2].Negara.values)\n",
        "print('Total : ', cluster_GP[cluster_GP.cluster == 2].Negara.count())"
      ],
      "metadata": {
        "id": "lt-Sh9LKmSZ9"
      },
      "execution_count": null,
      "outputs": []
    },
    {
      "cell_type": "code",
      "source": [
        "print('daftar negara cluster 3 :')\n",
        "print(cluster_GP[cluster_GP.cluster == 3].Negara.values)\n",
        "print('Total : ', cluster_GP[cluster_GP.cluster == 3].Negara.count())"
      ],
      "metadata": {
        "id": "C-NdIEYamSh6"
      },
      "execution_count": null,
      "outputs": []
    },
    {
      "cell_type": "markdown",
      "source": [
        "Dari hasil analisis diatas, negara yang ada di cluster 2 akan dipertimbangkan untuk menjadi penerima bantuan dari organisasi HELP dikarenakan GDPperkapita dan pendapatan sangatlah rendah dibandingkan dengan cluster-cluster yang lain."
      ],
      "metadata": {
        "id": "ThILsGZfZSR-"
      }
    },
    {
      "cell_type": "code",
      "source": [
        ""
      ],
      "metadata": {
        "id": "h6CoqKASm0BV"
      },
      "execution_count": null,
      "outputs": []
    },
    {
      "cell_type": "markdown",
      "source": [
        "#Harapan_hidup dan Pendapatan"
      ],
      "metadata": {
        "id": "PM4u9K1um6hA"
      }
    },
    {
      "cell_type": "code",
      "source": [
        "df_HP = pd.DataFrame(data= df_outlier, columns=['Harapan_hidup', 'Pendapatan'])\n",
        "df_HP.head()"
      ],
      "metadata": {
        "cellView": "code",
        "id": "5MrR5F6Um6hC"
      },
      "execution_count": null,
      "outputs": []
    },
    {
      "cell_type": "code",
      "source": [
        "#Scalling data\n",
        "sc = StandardScaler()\n",
        "df_HP = sc.fit_transform(df_HP)"
      ],
      "metadata": {
        "id": "zl0xBZyZm6hD"
      },
      "execution_count": null,
      "outputs": []
    },
    {
      "cell_type": "code",
      "source": [
        "#Elbow Method Harapan_hidup dan Pendapatan\n",
        "wcss = [] #Within-Cluster Sum of Square \n",
        "for i in range(1,11):\n",
        "  kmeans = KMeans(n_clusters=i, init='k-means++', random_state=42)\n",
        "  kmeans.fit(df_HP)\n",
        "  wcss.append(kmeans.inertia_)\n",
        "\n",
        "plt.figure(figsize=(10,6))\n",
        "plt.plot(range(1,11), wcss)\n",
        "plt.title('The Elbow Method')\n",
        "plt.xlabel('Number of cluster')\n",
        "plt.ylabel('WCSS')\n",
        "plt.show()"
      ],
      "metadata": {
        "id": "tyAZlOaHm6hE"
      },
      "execution_count": null,
      "outputs": []
    },
    {
      "cell_type": "markdown",
      "source": [
        "pada grafik diatas, kurva memiliki belokan yang tajam di titik 2 dan titik 3, sehingga kita akan sesuaikan dengan Sillhoutte score untuk menentukan banyaknya cluster yang akan dibuat."
      ],
      "metadata": {
        "id": "oSiKdoV-m6hF"
      }
    },
    {
      "cell_type": "code",
      "source": [
        "#Silhoutte score untuk Harapan_hidup dan Pendapatan"
      ],
      "metadata": {
        "id": "ymLrZFIMm6hF"
      },
      "execution_count": null,
      "outputs": []
    },
    {
      "cell_type": "code",
      "source": [
        "for i in range(2,11):\n",
        "  labels = KMeans(n_clusters=i, init='k-means++', random_state=42).fit(df_HP).labels_\n",
        "  print(\"Silhoutte Score for \" + str(i) + \" cluster is \" + str(silhouette_score(df_HP, labels)))"
      ],
      "metadata": {
        "id": "68x4AwPBm6hG"
      },
      "execution_count": null,
      "outputs": []
    },
    {
      "cell_type": "markdown",
      "source": [
        "Silhoutte score digunakan untuk melihat nilai k (banyaknya cluster) yang terbaik dilihat dari nilai yang tertinggi. Diperoleh Silhoutte score tertingginya yaiut 0.52880 untuk 3 cluster."
      ],
      "metadata": {
        "id": "A3OUxP-Km6hH"
      }
    },
    {
      "cell_type": "code",
      "source": [
        "#KMeans Cluster Harapan_hidup dan Pendapatan\n",
        "#3 cluster\n",
        "kmeans_HP = KMeans(n_clusters=3, init='k-means++', random_state=42).fit(df_HP)\n",
        "labels_HP = kmeans_HP.labels_\n",
        "\n",
        "df_HP_cluster = pd.DataFrame(data= df_outlier, columns=['Harapan_hidup', 'Pendapatan'])\n",
        "df_HP_cluster['cluster'] = labels_HP\n",
        "df_HP_cluster.head()"
      ],
      "metadata": {
        "id": "iFKB23Mlm6hH"
      },
      "execution_count": null,
      "outputs": []
    },
    {
      "cell_type": "code",
      "source": [
        "df_HP_scal = pd.DataFrame(data= df_HP, columns=['Harapan_hidup','Pendapatan'])\n",
        "df_HP_scal['cluster'] = labels_HP\n",
        "df_HP_scal.head()"
      ],
      "metadata": {
        "id": "0Iotz6lBm6hI"
      },
      "execution_count": null,
      "outputs": []
    },
    {
      "cell_type": "code",
      "source": [
        "#Scatter Plot Harapan_hidup dan pendapatan\n",
        "plt.figure(figsize=(12,8))\n",
        "print('n_cluster = 3')\n",
        "plt.scatter(df_HP_scal['Harapan_hidup'][df_HP_scal['cluster']==0], df_HP_scal['Pendapatan'][df_HP_scal['cluster']==0], c='blue', s=100, edgecolors='black' )\n",
        "plt.scatter(df_HP_scal['Harapan_hidup'][df_HP_scal['cluster']==1], df_HP_scal['Pendapatan'][df_HP_scal['cluster']==1], c='green', s=100, edgecolors='black' )\n",
        "plt.scatter(df_HP_scal['Harapan_hidup'][df_HP_scal['cluster']==2], df_HP_scal['Pendapatan'][df_HP_scal['cluster']==2], c='red', s=100, edgecolors='black' )\n",
        "\n",
        "\n",
        "cluster = kmeans_HP.cluster_centers_\n",
        "plt.scatter(cluster[:,0], cluster[:,1], c='black', s=500)\n",
        "plt.xlabel('Harapan_hidup')\n",
        "plt.ylabel('Pendapatan')\n",
        "plt.show()"
      ],
      "metadata": {
        "id": "NNmfspZum6hI"
      },
      "execution_count": null,
      "outputs": []
    },
    {
      "cell_type": "markdown",
      "source": [
        "Interpretasi :\n",
        "Bisa dilihat bahwa terdapat 3 cluster\n",
        "\n",
        "cluster 0 (biru) :  Merupakan negara-negara yang memiliki pendapatan dan harapan hidup rendah\n",
        "\n",
        "cluster 1 (hijau) :  Merupakan negara-negara yang memiliki pendapatan rendah namun harapan hidup cukup tinggi.\n",
        "\n",
        "cluster 2 (merah) :  Merupakan negara-negara yang memiliki pendapatan dan harapan hidup yang sangat tinggi.\n"
      ],
      "metadata": {
        "id": "gPxBE8gdm6hJ"
      }
    },
    {
      "cell_type": "code",
      "source": [
        "df_HP_cluster.groupby(['cluster']).agg({'Harapan_hidup':'mean','Pendapatan':'mean' })"
      ],
      "metadata": {
        "id": "icagpL_Em6hL"
      },
      "execution_count": null,
      "outputs": []
    },
    {
      "cell_type": "markdown",
      "source": [
        "Bisa disimpulkan:\n",
        "\n",
        "cluster 0 : memiliki rata-rata harapan hidup dan pendapatan sangat rendah, dengan rata-rata harapan hidup hanya 61 tahun dan pendapatan hanya $3923.61 per orang.\n",
        "\n",
        "cluster 1 : memiliki rata-rata harapan hidup cukup tinggi namun dengan rata-rata pendapatan rendah. Rata-rata harapan hidupnya 74 tahun dengan pendapatan setiap orang $11895.16.\n",
        "\n",
        "cluster 2 : memiliki rata-rata hidup dan pendapatan sangat tinggi, dengan rata-rata harapan hidup mencapai 79 tahun dan rata-rata pendapatan mencapai $37168.75 per orang."
      ],
      "metadata": {
        "id": "ZQ89LkpWm6hL"
      }
    },
    {
      "cell_type": "code",
      "source": [
        "cluster_HP = pd.concat([df['Negara'],df_HP_cluster], axis=1, join='outer')\n",
        "cluster_HP.head()"
      ],
      "metadata": {
        "id": "KpCenl0Um6hN"
      },
      "execution_count": null,
      "outputs": []
    },
    {
      "cell_type": "code",
      "source": [
        "print('daftar negara cluster 0 :')\n",
        "print(cluster_HP[cluster_HP.cluster == 0].Negara.values)\n",
        "print('Total : ', cluster_HP[cluster_HP.cluster == 0].Negara.count())"
      ],
      "metadata": {
        "id": "qyK28Cdem6hO"
      },
      "execution_count": null,
      "outputs": []
    },
    {
      "cell_type": "code",
      "source": [
        "print('daftar negara cluster 1 :')\n",
        "print(cluster_HP[cluster_HP.cluster == 1].Negara.values)\n",
        "print('Total : ', cluster_HP[cluster_HP.cluster == 1].Negara.count())"
      ],
      "metadata": {
        "id": "SLsdK47Um6hP"
      },
      "execution_count": null,
      "outputs": []
    },
    {
      "cell_type": "code",
      "source": [
        "print('daftar negara cluster 2 :')\n",
        "print(cluster_HP[cluster_HP.cluster == 2].Negara.values)\n",
        "print('Total : ', cluster_HP[cluster_HP.cluster == 2].Negara.count())"
      ],
      "metadata": {
        "id": "xmeqqs7xm6hP"
      },
      "execution_count": null,
      "outputs": []
    },
    {
      "cell_type": "markdown",
      "source": [
        "Dari hasil analisis diatas, negara yang ada di cluster 0 akan dipertimbangkan untuk menjadi penerima bantuan dari organisasi HELP dikarenakan Harapan_hidup dan pendapatan cukup rendah."
      ],
      "metadata": {
        "id": "2FCt3cJRm6hR"
      }
    },
    {
      "cell_type": "markdown",
      "source": [
        "#Analisis"
      ],
      "metadata": {
        "id": "pAv8wdgFsrbH"
      }
    },
    {
      "cell_type": "markdown",
      "source": [
        "Dilihat dari hasil clustering berdasarkan beberapa fitur yang memiliki korelasi yang tinggi, kita mendapatkan 1 cluster pada masing2 clustering untuk dipertimbangkan menjadi penerima bantuan dari organisasi HELP. Dari 5 clustering pasangan fitur, kita akan melihat negara mana yang ada pada setiap cluster yang dipertimbangka, sehingga kita dapat memilih negara tersebut sebagai negara yang paling tepat mendapatkan bantuan."
      ],
      "metadata": {
        "id": "QW6jpQr7suJA"
      }
    },
    {
      "cell_type": "markdown",
      "source": [
        "1. Kematian_anak dan Jumlah_fertiliti\n",
        "\n",
        "pada clustering ini diperoleh cluster 0 menjadi pertimbangan untuk mendapatkan bantuan. Yaitu cluster dengan negara-negara yang memiliki tingkat Kematian_anak dan Jumlah_fertiliti tinggi."
      ],
      "metadata": {
        "id": "fijds6-xvp6D"
      }
    },
    {
      "cell_type": "code",
      "source": [
        "#Negara yang memiliki tingkat Kematian anak dan Jumlah fertiliti tinggi\n",
        "NKJ = cluster_KJ[cluster_KJ.cluster == 0].Negara.values"
      ],
      "metadata": {
        "id": "-zOxDbNYssgl"
      },
      "execution_count": null,
      "outputs": []
    },
    {
      "cell_type": "code",
      "source": [
        "print(\"Negara yang memiliki tingkat Kematian anak dan Jumlah fertiliti tinggi : \" \n",
        "      + str(NKJ))\n",
        "print(\"Banyaknya negara :\" + str(len(NKJ)))"
      ],
      "metadata": {
        "id": "DQHJxaP0wA3W"
      },
      "execution_count": null,
      "outputs": []
    },
    {
      "cell_type": "markdown",
      "source": [
        "2. Jumlah_fertiliti dan Harapan_hidup\n",
        "\n",
        "pada clustering ini diperoleh cluster 1 menjadi pertimbangan untuk mendapatkan bantuan. Yaitu cluster dengan negara-negara yang memiliki Jumlah_fertiliti tinggi namun Harapan_hidup rendah."
      ],
      "metadata": {
        "id": "TQwNbwL6A6Iv"
      }
    },
    {
      "cell_type": "code",
      "source": [
        "#Negara yang memiliki Jumlah fertiliti tinggi dan Harapan_hidup rendah\n",
        "NJH = cluster_JH[cluster_JH.cluster == 1].Negara.values"
      ],
      "metadata": {
        "id": "sq85fFXaA6I8"
      },
      "execution_count": null,
      "outputs": []
    },
    {
      "cell_type": "code",
      "source": [
        "print(\"Negara yang memiliki Jumlah fertiliti tinggi dan Harapan_hidup rendah : \" \n",
        "      + str(NJH))\n",
        "print(\"Banyaknya negara :\" + str(len(NJH)))"
      ],
      "metadata": {
        "id": "3YdKBMrWA6I8"
      },
      "execution_count": null,
      "outputs": []
    },
    {
      "cell_type": "markdown",
      "source": [
        "3. Harapan_hidup dan Kematian_anak\n",
        "\n",
        "pada clustering ini diperoleh cluster 2 menjadi pertimbangan untuk mendapatkan bantuan. Yaitu cluster dengan negara-negara yang memiliki tingkat Kematian_anak tinggi namun Harapan_hidup rendah"
      ],
      "metadata": {
        "id": "gq5ec3ZbH4BL"
      }
    },
    {
      "cell_type": "code",
      "source": [
        "#Negara yang memiliki tingkat Kematian_anak tinggi dan Harapan_hidup rendah\n",
        "NHK = cluster_HK[cluster_HK.cluster == 1].Negara.values"
      ],
      "metadata": {
        "id": "hz2thqMvH4BL"
      },
      "execution_count": null,
      "outputs": []
    },
    {
      "cell_type": "code",
      "source": [
        "print(\"Negara yang memiliki tingkat Kematian_anak tinggi dan Harapan_hidup rendah : \" \n",
        "      + str(NHK))\n",
        "print(\"Banyaknya negara :\" + str(len(NHK)))"
      ],
      "metadata": {
        "id": "cSxTufCiH4BL"
      },
      "execution_count": null,
      "outputs": []
    },
    {
      "cell_type": "markdown",
      "source": [
        "4. GDPperkapita dan Pendapatan\n",
        "\n",
        "pada clustering ini diperoleh cluster 2 menjadi pertimbangan untuk mendapatkan bantuan. Yaitu cluster dengan negara-negara yang memiliki GDPperkapitan dan Pendapatan sangat rendah."
      ],
      "metadata": {
        "id": "cOcFYudLIuZS"
      }
    },
    {
      "cell_type": "code",
      "source": [
        "#Negara yang memiliki GDPperkapita dan Pendapatan rendah\n",
        "NGP = cluster_GP[cluster_GP.cluster == 2].Negara.values"
      ],
      "metadata": {
        "id": "SK-OgI2mIuZU"
      },
      "execution_count": null,
      "outputs": []
    },
    {
      "cell_type": "code",
      "source": [
        "print(\"Negara yang memiliki GDPperkapita dan Pendapatan rendah : \" \n",
        "      + str(NGP))\n",
        "print(\"Banyaknya negara :\" + str(len(NGP)))"
      ],
      "metadata": {
        "id": "5f32uceRIuZV"
      },
      "execution_count": null,
      "outputs": []
    },
    {
      "cell_type": "markdown",
      "source": [
        "5. Harapan_hidup dan Pendapatan\n",
        "\n",
        "pada clustering ini diperoleh cluster 0 menjadi pertimbangan untuk mendapatkan bantuan. Yaitu cluster dengan negara-negara yang memiliki NHarapan_hidup dan Pendapatan rendah."
      ],
      "metadata": {
        "id": "_j_-pEKaKIxu"
      }
    },
    {
      "cell_type": "code",
      "source": [
        "#Negara yang memiliki Harapan_hidup dan Pendapatan rendah\n",
        "NHP = cluster_HP[cluster_HP.cluster == 0].Negara.values"
      ],
      "metadata": {
        "id": "k6cDW49dKIxv"
      },
      "execution_count": null,
      "outputs": []
    },
    {
      "cell_type": "code",
      "source": [
        "print(\"Negara yang memiliki Harapan_hidup dan Pendapatan rendah : \" \n",
        "      + str(NHP))\n",
        "print(\"Banyaknya negara :\" + str(len(NHP)))"
      ],
      "metadata": {
        "id": "5kxvDNOqKIxv"
      },
      "execution_count": null,
      "outputs": []
    },
    {
      "cell_type": "markdown",
      "source": [
        "#Negara yang menerima bantuan"
      ],
      "metadata": {
        "id": "9sozsQAGNp4H"
      }
    },
    {
      "cell_type": "markdown",
      "source": [
        "akan dicari negara yang masuk kedalam semua cluster yang menjadi pertimbangan, negara tersebut yang akan dipilih sebagai negara yang akan menerima bantuan dari organisasi HELP"
      ],
      "metadata": {
        "id": "nKlxn-sJNv6q"
      }
    },
    {
      "cell_type": "code",
      "source": [
        "NB = list(set(NKJ.tolist()) & set(NJH.tolist()) & set(NHK.tolist()) & set(NGP.tolist()) & set(NHP.tolist()))"
      ],
      "metadata": {
        "id": "JZHs5rFFLbxK"
      },
      "execution_count": null,
      "outputs": []
    },
    {
      "cell_type": "code",
      "source": [
        "print(\"Negara yang dipilih untuk mendapatkan bantuan adalah : \" + str(np.array(NB)))\n",
        "print(\"Banyaknya Negara : \" + str(len(NB))+ \" Negara\")"
      ],
      "metadata": {
        "id": "HnArzrFLLsQP"
      },
      "execution_count": null,
      "outputs": []
    },
    {
      "cell_type": "markdown",
      "source": [
        "#Kesimpulan\n",
        "\n",
        "Kesimpulannya, berdasarkan faktor sosial ekonomi dan kesehatan yang ada pada dataset, diperoleh dari hasil clustering bahwa ada 38 Negara yang memiliki kriteria sesuai dengan bantuan yang akan diberikan oleh organisasi HELP. 38 Negara tersebut disarankan untuk Negara-negara yang menjadi fokus CEO organisasi HELP sebagai Negara yang dianggap paling membutuhkan bantuan."
      ],
      "metadata": {
        "id": "GE6BjaVfOb1V"
      }
    }
  ]
}